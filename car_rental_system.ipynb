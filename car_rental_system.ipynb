{
 "cells": [
  {
   "cell_type": "markdown",
   "id": "da79f5ce-4d53-4192-b8b9-374f6554d92d",
   "metadata": {},
   "source": [
    "# Car Rental System:\n"
   ]
  },
  {
   "cell_type": "code",
   "execution_count": null,
   "id": "84bda513-ce21-4271-a677-e1d338d6843d",
   "metadata": {},
   "outputs": [
    {
     "name": "stdout",
     "output_type": "stream",
     "text": [
      "\n",
      "Car Rental System:\n",
      "1. Rent a Car\n",
      "2. Return a Car\n",
      "3. Inquire about Car\n",
      "4. Quit\n"
     ]
    },
    {
     "name": "stdin",
     "output_type": "stream",
     "text": [
      "Enter your choice:  1\n"
     ]
    }
   ],
   "source": [
    "class Car:\n",
    "    def __init__(self, model, price_per_day, available_quantity):\n",
    "        self.model = model\n",
    "        self.price_per_day = price_per_day\n",
    "        self.available_quantity = available_quantity\n",
    "\n",
    "class RentalSystem:\n",
    "    def __init__(self):\n",
    "        self.cars = []\n",
    "\n",
    "    def add_car(self, car):\n",
    "        self.cars.append(car)\n",
    "\n",
    "    def rent_car(self, model, rental_duration, customer_name, customer_age, customer_license):\n",
    "        car_available = False1\n",
    "        rental_invoice = \"\"\n",
    "        for car in self.cars:\n",
    "            if car.model == model and car.available_quantity > 0:\n",
    "                total_price = car.price_per_day * rental_duration\n",
    "                rental_invoice = f\"Rental Invoice:\\nModel: {car.model}\\nPrice per day: ${car.price_per_day}\\nRental duration: {rental_duration} days\\nTotal price: ${total_price}\\nCustomer Name: {customer_name}\\nCustomer Age: {customer_age}\\nCustomer License: {customer_license}\"\n",
    "                car.available_quantity -= 1\n",
    "                car_available = True\n",
    "                break\n",
    "        if not car_available:\n",
    "            return \"Car not available for rent.\"\n",
    "        else:\n",
    "            return rental_invoice\n",
    "\n",
    "    def return_car(self, model, rental_duration, additional_charges=0):\n",
    "        for car in self.cars:\n",
    "            if car.model == model:\n",
    "                rental_cost = car.price_per_day * rental_duration\n",
    "                total_cost = rental_cost + additional_charges\n",
    "                car.available_quantity += 1\n",
    "                return f\"Thank you for returning the {car.model}. Rental cost: ${rental_cost}, Additional charges: ${additional_charges}, Total: ${total_cost}\"\n",
    "        return \"Car not found.\"\n",
    "\n",
    "    def inquire_car(self, model=None, price_range=None):\n",
    "        matching_cars = []\n",
    "        for car in self.cars:\n",
    "            if model and price_range:\n",
    "                if car.model.lower() == model.lower() and price_range[0] <= car.price_per_day <= price_range[1]:\n",
    "                    matching_cars.append(car)\n",
    "            elif model:\n",
    "                if car.model.lower() == model.lower():\n",
    "                    matching_cars.append(car)\n",
    "            elif price_range:\n",
    "                if price_range[0] <= car.price_per_day <= price_range[1]:\n",
    "                    matching_cars.append(car)\n",
    "\n",
    "        if not matching_cars:\n",
    "            return \"No cars found matching the criteria.\"\n",
    "\n",
    "        result = \"\"\n",
    "        for car in matching_cars:\n",
    "            result += f\"Model: {car.model}, Price per day: ${car.price_per_day}, Available quantity: {car.available_quantity}\\n\"\n",
    "        return result\n",
    "\n",
    "\n",
    "# Creating instances of cars\n",
    "sedan = Car(\"Sedan\", 50, 10)\n",
    "suv = Car(\"SUV\", 70, 5)\n",
    "hatchback = Car(\"Hatchback\", 40, 8)\n",
    "\n",
    "# Initializing rental system\n",
    "rental_system = RentalSystem()\n",
    "rental_system.add_car(sedan)\n",
    "rental_system.add_car(suv)\n",
    "rental_system.add_car(hatchback)\n",
    "\n",
    "# Example usage\n",
    "while True:\n",
    "    print(\"\\nCar Rental System:\")\n",
    "    print(\"1. Rent a Car\")\n",
    "    print(\"2. Return a Car\")\n",
    "    print(\"3. Inquire about Car\")\n",
    "    print(\"4. Quit\")\n",
    "    \n",
    "    choice = input(\"Enter your choice: \")\n",
    "\n",
    "    if choice == '1':\n",
    "        model = input(\"Enter the model of the car you want to rent: \")\n",
    "        rental_duration = int(input(\"Enter rental duration (in days): \"))\n",
    "        customer_name = input(\"Enter your name: \")\n",
    "        customer_age = int(input(\"Enter your age: \"))\n",
    "        customer_license = input(\"Enter your license number: \")\n",
    "        print(rental_system.rent_car(model, rental_duration, customer_name, customer_age, customer_license))\n",
    "\n",
    "    elif choice == '2':\n",
    "        model = input(\"Enter the model of the car you want to return: \")\n",
    "        rental_duration = int(input(\"Enter rental duration (in days): \"))\n",
    "        additional_charges = float(input(\"Enter any additional charges (if any): \"))\n",
    "        print(rental_system.return_car(model, rental_duration, additional_charges))\n",
    "\n",
    "    elif choice == '3':\n",
    "        model = input(\"Enter the model of the car you want to inquire about (leave blank to see all cars): \")\n",
    "        min_price = float(input(\"Enter minimum price per day (leave blank if not applicable): \") or 0)\n",
    "        max_price = float(input(\"Enter maximum price per day (leave blank if not applicable): \") or float('inf'))\n",
    "        print(rental_system.inquire_car(model, price_range=(min_price, max_price)))\n",
    "\n",
    "    elif choice == '4':\n",
    "        print(\"Thank you for using our service. Goodbye!\")\n",
    "        break\n",
    "\n",
    "    else:\n",
    "        print(\"Invalid choice. Please try again.\")\n"
   ]
  },
  {
   "cell_type": "markdown",
   "id": "cf4a7e43-dd0b-49b3-8250-58f270368a87",
   "metadata": {},
   "source": [
    "# login and registration(car rental system):"
   ]
  },
  {
   "cell_type": "code",
   "execution_count": 4,
   "id": "1462391f-674c-4a46-9aae-f9808400ef71",
   "metadata": {},
   "outputs": [
    {
     "name": "stdout",
     "output_type": "stream",
     "text": [
      "\n",
      "Welcome to Car Rental System\n",
      "1. Register\n",
      "2. Login\n",
      "3. Exit\n"
     ]
    },
    {
     "name": "stdin",
     "output_type": "stream",
     "text": [
      "Enter your choice:  1\n"
     ]
    },
    {
     "name": "stdout",
     "output_type": "stream",
     "text": [
      "Please fill in the following details to register:\n"
     ]
    },
    {
     "name": "stdin",
     "output_type": "stream",
     "text": [
      "Username:  manoj\n",
      "Password:  1234\n"
     ]
    },
    {
     "name": "stdout",
     "output_type": "stream",
     "text": [
      "Registration successful!\n",
      "\n",
      "Welcome to Car Rental System\n",
      "1. Register\n",
      "2. Login\n",
      "3. Exit\n"
     ]
    },
    {
     "name": "stdin",
     "output_type": "stream",
     "text": [
      "Enter your choice:  exit\n"
     ]
    },
    {
     "name": "stdout",
     "output_type": "stream",
     "text": [
      "Invalid choice. Please try again.\n",
      "\n",
      "Welcome to Car Rental System\n",
      "1. Register\n",
      "2. Login\n",
      "3. Exit\n"
     ]
    },
    {
     "name": "stdin",
     "output_type": "stream",
     "text": [
      "Enter your choice:  2\n"
     ]
    },
    {
     "name": "stdout",
     "output_type": "stream",
     "text": [
      "Please enter your login details:\n"
     ]
    },
    {
     "name": "stdin",
     "output_type": "stream",
     "text": [
      "Username:  manoj\n",
      "Password:  1234\n"
     ]
    },
    {
     "name": "stdout",
     "output_type": "stream",
     "text": [
      "Login successful!\n",
      "\n",
      "Welcome to Car Rental System\n",
      "1. Register\n",
      "2. Login\n",
      "3. Exit\n"
     ]
    },
    {
     "name": "stdin",
     "output_type": "stream",
     "text": [
      "Enter your choice:  3\n"
     ]
    },
    {
     "name": "stdout",
     "output_type": "stream",
     "text": [
      "Thank you for using Car Rental System. Goodbye!\n"
     ]
    }
   ],
   "source": [
    "users = {}\n",
    "\n",
    "def register():\n",
    "    print(\"Please fill in the following details to register:\")\n",
    "    username = input(\"Username: \")\n",
    "    \n",
    "    # Check if username already exists\n",
    "    if username in users:\n",
    "        print(\"Username already exists. Please choose another one.\")\n",
    "        return\n",
    "    \n",
    "    password = input(\"Password: \")\n",
    "    users[username] = password\n",
    "    print(\"Registration successful!\")\n",
    "\n",
    "def login():\n",
    "    print(\"Please enter your login details:\")\n",
    "    username = input(\"Username: \")\n",
    "    password = input(\"Password: \")\n",
    "    \n",
    "    # Check if username exists and password matches\n",
    "    if username in users and users[username] == password:\n",
    "        print(\"Login successful!\")\n",
    "    else:\n",
    "        print(\"Invalid username or password. Please try again.\")\n",
    "\n",
    "# Main menu\n",
    "while True:\n",
    "    print(\"\\nWelcome to Car Rental System\")\n",
    "    print(\"1. Register\")\n",
    "    print(\"2. Login\")\n",
    "    print(\"3. Exit\")\n",
    "    choice = input(\"Enter your choice: \")\n",
    "\n",
    "    if choice == '1':\n",
    "        register()\n",
    "    elif choice == '2':\n",
    "        login()\n",
    "    elif choice == '3':\n",
    "        print(\"Thank you for using Car Rental System. Goodbye!\")\n",
    "        break\n",
    "    else:\n",
    "        print(\"Invalid choice. Please try again.\")\n"
   ]
  },
  {
   "cell_type": "code",
   "execution_count": null,
   "id": "79b934b9-4017-4156-a3dd-f96f807a3aa6",
   "metadata": {},
   "outputs": [],
   "source": []
  }
 ],
 "metadata": {
  "kernelspec": {
   "display_name": "Python 3 (ipykernel)",
   "language": "python",
   "name": "python3"
  },
  "language_info": {
   "codemirror_mode": {
    "name": "ipython",
    "version": 3
   },
   "file_extension": ".py",
   "mimetype": "text/x-python",
   "name": "python",
   "nbconvert_exporter": "python",
   "pygments_lexer": "ipython3",
   "version": "3.11.7"
  }
 },
 "nbformat": 4,
 "nbformat_minor": 5
}
